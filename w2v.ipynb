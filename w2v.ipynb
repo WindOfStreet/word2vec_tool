{
 "cells": [
  {
   "cell_type": "code",
   "execution_count": 2,
   "metadata": {
    "uuid": "a2bffe76-5d4b-42cc-a6ce-17c588783e78"
   },
   "outputs": [
    {
     "name": "stdout",
     "output_type": "stream",
     "text": [
      "Collecting gensim\n",
      "  Downloading https://mirrors.aliyun.com/pypi/packages/2b/e0/fa6326251692056dc880a64eb22117e03269906ba55a6864864d24ec8b4e/gensim-3.8.3-cp36-cp36m-manylinux1_x86_64.whl (24.2MB)\n",
      "\u001b[K    100% |████████████████████████████████| 24.2MB 110.1MB/s \n",
      "\u001b[?25hCollecting smart-open>=1.8.1 (from gensim)\n",
      "  Downloading https://mirrors.aliyun.com/pypi/packages/0b/8e/464b06f5efd26f2dc16ce7bd1662c2f31cadf9104fdbcbf5994674cc3a51/smart_open-2.1.0.tar.gz (116kB)\n",
      "\u001b[K    100% |████████████████████████████████| 122kB 105.7MB/s \n",
      "\u001b[?25hRequirement already satisfied: scipy>=0.18.1 in /opt/conda/lib/python3.6/site-packages (from gensim)\n",
      "Requirement already satisfied: six>=1.5.0 in /opt/conda/lib/python3.6/site-packages (from gensim)\n",
      "Requirement already satisfied: numpy>=1.11.3 in /opt/conda/lib/python3.6/site-packages (from gensim)\n",
      "Requirement already satisfied: requests in /opt/conda/lib/python3.6/site-packages (from smart-open>=1.8.1->gensim)\n",
      "Collecting boto (from smart-open>=1.8.1->gensim)\n",
      "  Downloading https://mirrors.aliyun.com/pypi/packages/23/10/c0b78c27298029e4454a472a1919bde20cb182dab1662cec7f2ca1dcc523/boto-2.49.0-py2.py3-none-any.whl (1.4MB)\n",
      "\u001b[K    100% |████████████████████████████████| 1.4MB 110.4MB/s \n",
      "\u001b[?25hCollecting boto3 (from smart-open>=1.8.1->gensim)\n",
      "  Downloading https://mirrors.aliyun.com/pypi/packages/7a/6f/40a5318c7f4e6bb5308956534cfe6becbad4872c3ff3114badb81749a18a/boto3-1.14.47-py2.py3-none-any.whl (129kB)\n",
      "\u001b[K    100% |████████████████████████████████| 133kB 108.3MB/s \n",
      "\u001b[?25hRequirement already satisfied: urllib3!=1.25.0,!=1.25.1,<1.26,>=1.21.1 in /opt/conda/lib/python3.6/site-packages (from requests->smart-open>=1.8.1->gensim)\n",
      "Requirement already satisfied: idna<2.9,>=2.5 in /opt/conda/lib/python3.6/site-packages (from requests->smart-open>=1.8.1->gensim)\n",
      "Requirement already satisfied: certifi>=2017.4.17 in /opt/conda/lib/python3.6/site-packages (from requests->smart-open>=1.8.1->gensim)\n",
      "Requirement already satisfied: chardet<3.1.0,>=3.0.2 in /opt/conda/lib/python3.6/site-packages (from requests->smart-open>=1.8.1->gensim)\n",
      "Collecting s3transfer<0.4.0,>=0.3.0 (from boto3->smart-open>=1.8.1->gensim)\n",
      "  Downloading https://mirrors.aliyun.com/pypi/packages/69/79/e6afb3d8b0b4e96cefbdc690f741d7dd24547ff1f94240c997a26fa908d3/s3transfer-0.3.3-py2.py3-none-any.whl (69kB)\n",
      "\u001b[K    100% |████████████████████████████████| 71kB 92.4MB/s \n",
      "\u001b[?25hCollecting botocore<1.18.0,>=1.17.47 (from boto3->smart-open>=1.8.1->gensim)\n",
      "  Downloading https://mirrors.aliyun.com/pypi/packages/eb/63/3dfa39fc55118cd6c29cd768b6e37fd29fdb7aa5f7b54ac3724c26fbadf4/botocore-1.17.47-py2.py3-none-any.whl (6.5MB)\n",
      "\u001b[K    100% |████████████████████████████████| 6.5MB 111.4MB/s \n",
      "\u001b[?25hRequirement already satisfied: jmespath<1.0.0,>=0.7.1 in /opt/conda/lib/python3.6/site-packages (from boto3->smart-open>=1.8.1->gensim)\n",
      "Collecting docutils<0.16,>=0.10 (from botocore<1.18.0,>=1.17.47->boto3->smart-open>=1.8.1->gensim)\n",
      "  Downloading https://mirrors.aliyun.com/pypi/packages/22/cd/a6aa959dca619918ccb55023b4cb151949c64d4d5d55b3f4ffd7eee0c6e8/docutils-0.15.2-py3-none-any.whl (547kB)\n",
      "\u001b[K    100% |████████████████████████████████| 552kB 11.9MB/s \n",
      "\u001b[?25hRequirement already satisfied: python-dateutil<3.0.0,>=2.1 in /opt/conda/lib/python3.6/site-packages (from botocore<1.18.0,>=1.17.47->boto3->smart-open>=1.8.1->gensim)\n",
      "Building wheels for collected packages: smart-open\n",
      "  Running setup.py bdist_wheel for smart-open ... \u001b[?25ldone\n",
      "\u001b[?25h  Stored in directory: /home/admin/.cache/pip/wheels/06/ec/b9/771c2def5c98b50f110a5c8517a9dcb78a14b99677b0d021b1\n",
      "Successfully built smart-open\n",
      "Installing collected packages: boto, docutils, botocore, s3transfer, boto3, smart-open, gensim\n",
      "Successfully installed boto-2.49.0 boto3-1.14.47 botocore-1.17.47 docutils-0.15.2 gensim-3.8.3 s3transfer-0.3.3 smart-open-2.1.0\n",
      "\u001b[33mYou are using pip version 9.0.1, however version 20.2.2 is available.\n",
      "You should consider upgrading via the 'pip install --upgrade pip' command.\u001b[0m\n"
     ]
    }
   ],
   "source": [
    "!pip install --user gensim"
   ]
  },
  {
   "cell_type": "code",
   "execution_count": 1,
   "metadata": {
    "uuid": "01c35998-6602-411d-b89e-fe0c076afece"
   },
   "outputs": [],
   "source": [
    "from build_w2v import MyCorpus, build\n",
    "import time\n",
    "from gensim.models.keyedvectors import KeyedVectors"
   ]
  },
  {
   "cell_type": "code",
   "execution_count": 2,
   "metadata": {
    "uuid": "22b2a769-7ac6-410e-9382-fbc250f5792f"
   },
   "outputs": [
    {
     "name": "stderr",
     "output_type": "stream",
     "text": [
      "Building prefix dict from the default dictionary ...\n",
      "Dumping model to file cache /tmp/jieba.cache\n",
      "Loading model cost 0.823 seconds.\n",
      "Prefix dict has been built successfully.\n"
     ]
    },
    {
     "name": "stdout",
     "output_type": "stream",
     "text": [
      "save w2v model ok.\n",
      "车主和技师的词向量相似度为：0.7981391549110413\n",
      "车主和技师的词向量相似度为：0.7981391549110413\n",
      "程序运行1435.890596433秒\n"
     ]
    }
   ],
   "source": [
    "t1 = time.process_time()\n",
    "# 问题1：\n",
    "sentences = MyCorpus(train_path='input/AutoMaster_TrainSet.csv', train_cols=['Question', 'Dialogue', 'Report'],\n",
    "                     test_path='input/AutoMaster_TestSet.csv', stop_list=['|', '[', ']', '语音', '图片', ' '])\n",
    "# sentences = MyCorpus1()\n",
    "\n",
    "model_path = 'input/model.wv'\n",
    "# build(sentences=sentences, size=256, skip_gram=1, hs=1, save_path='input/w2v_keyvec.bin')\n",
    "build(sentences=sentences, size=256, skip_gram=1, hs=1, save_path=model_path)\n",
    "\n",
    "# model1 = KeyedVectors.load_word2vec_format(model_path, binary=True)\n",
    "model1 = KeyedVectors.load(model_path)\n",
    "print('车主和技师的词向量相似度为：{}'.format(model1.similarity('技师', '车主')))\n",
    "t2 = time.process_time()\n",
    "print('程序运行{}秒'.format(t2-t1))"
   ]
  },
  {
   "cell_type": "code",
   "execution_count": 6,
   "metadata": {
    "uuid": "8ad7c8b3-a1b7-4ac2-958e-19758b12afa8"
   },
   "outputs": [
    {
     "data": {
      "text/plain": [
       "array([-0.02884637,  0.10725746,  0.30471694, -0.00714313, -0.56055903,\n",
       "        0.504707  , -0.08197373, -0.11116062,  0.30343187,  0.4024367 ,\n",
       "       -0.30316207, -0.39147693,  0.07761707, -0.05872596,  0.10665926,\n",
       "        0.05018541, -0.340591  , -0.2481302 ,  0.37537527, -0.11365354,\n",
       "        0.16491544, -0.12046608,  0.24348044, -0.22300969, -0.26706195,\n",
       "        0.25956774, -0.05948945, -0.15622965, -0.04500632,  0.13947205,\n",
       "        0.15067573, -0.32560512, -0.11282453,  0.09521215, -0.05090625,\n",
       "        0.3414992 ,  0.22238177, -0.18838513,  0.22556289,  0.12987141,\n",
       "       -0.11913933,  0.15865844, -0.03167759, -0.2182081 , -0.5390174 ,\n",
       "        0.17317049,  0.03525053,  0.02706959,  0.08814596,  0.08873946,\n",
       "       -0.5637494 , -0.21438505,  0.08714402,  0.14258221, -0.243437  ,\n",
       "       -0.26571313, -0.07172405,  0.12898734, -0.08123183, -0.20002909,\n",
       "       -0.05462684,  0.23683013, -0.13760759, -0.03610312,  0.29880133,\n",
       "       -0.32771182,  0.08652016,  0.11745846, -0.20219882, -0.24402572,\n",
       "        0.00685981, -0.23782508, -0.0569482 ,  0.10514539, -0.14909348,\n",
       "       -0.01598511,  0.25562617,  0.25755545,  0.01014924, -0.2140604 ,\n",
       "       -0.3372221 , -0.20289625,  0.1543538 ,  0.46636125,  0.17780459,\n",
       "        0.21845582, -0.20244668,  0.05030305, -0.06845848,  0.02890739,\n",
       "       -0.3151917 ,  0.02456828, -0.13985798, -0.5178234 , -0.21625532,\n",
       "       -0.27891397, -0.02211977, -0.13637084, -0.04140955,  0.5071127 ,\n",
       "        0.20405883,  0.35702112,  0.1404242 , -0.01614371,  0.1218914 ,\n",
       "       -0.01884347,  0.20121932,  0.23222959,  0.14273429,  0.14142321,\n",
       "        0.2570049 , -0.08566793,  0.3367034 , -0.3455772 , -0.11848054,\n",
       "        0.1821369 , -0.03691138,  0.02890664, -0.11184045,  0.34075907,\n",
       "       -0.13065483,  0.15521796,  0.17619488,  0.04054616,  0.41911787,\n",
       "       -0.2828046 , -0.08775754, -0.03783467,  0.26837227, -0.04011329,\n",
       "        0.40641966, -0.11208716, -0.29622856,  0.08875879, -0.21639712,\n",
       "       -0.17738062, -0.26852524, -0.10511628, -0.23706788, -0.35556453,\n",
       "       -0.1240217 ,  0.16205761, -0.09914571,  0.10154451,  0.12265514,\n",
       "       -0.09856328, -0.35986522, -0.29397124, -0.910457  , -0.13429993,\n",
       "       -0.13453817, -0.0460646 , -0.16014248,  0.21879476,  0.3049158 ,\n",
       "       -0.510179  , -0.12476596, -0.15183635, -0.02550508,  0.11430635,\n",
       "        0.36155996, -0.15200026, -0.2699205 ,  0.27096087, -0.3202689 ,\n",
       "       -0.2594475 , -0.17364612, -0.00536099, -0.20447627, -0.02296354,\n",
       "       -0.16372745, -0.10250689, -0.4340868 ,  0.16188914, -0.01198642,\n",
       "       -0.2845745 , -0.10699614, -0.14710772, -0.47199127,  0.2961242 ,\n",
       "        0.11918554,  0.29775134,  0.2397248 , -0.05679351,  0.37547386,\n",
       "       -0.55741215,  0.10946743, -0.07239806,  0.43634486,  0.2198289 ,\n",
       "        0.01792195,  0.32935777, -0.3378536 ,  0.48191094, -0.16243245,\n",
       "        0.47297138,  0.23557973, -0.16570316,  0.17332762, -0.04726578,\n",
       "        0.07702299, -0.24998894, -0.2031945 , -0.00626357,  0.41803294,\n",
       "        0.18652453, -0.68942755, -0.253911  , -0.29211894,  0.04558625,\n",
       "        0.32145566,  0.12680092, -0.2894175 , -0.1256532 , -0.06946121,\n",
       "        0.06765662,  0.04668098, -0.25363243, -0.17379934, -0.15242378,\n",
       "       -0.28160736,  0.50485384,  0.3027595 , -0.1919668 , -0.3714645 ,\n",
       "        0.25016   ,  0.659804  ,  0.1768766 , -0.02429624, -0.19956289,\n",
       "       -0.24287131, -0.09079883, -0.08937556, -0.28612483, -0.31962937,\n",
       "        0.1485259 , -0.17747155, -0.2730939 , -0.2593995 , -0.18972534,\n",
       "        0.21417381, -0.5423217 , -0.07298128, -0.43086377,  0.009094  ,\n",
       "       -0.2172679 , -0.1505985 , -0.0637581 , -0.04901007, -0.0576866 ,\n",
       "        0.12848173, -0.03109287, -0.01754749,  0.27198708, -0.36723492,\n",
       "       -0.01717812], dtype=float32)"
      ]
     },
     "execution_count": 6,
     "metadata": {},
     "output_type": "execute_result"
    }
   ],
   "source": [
    "model1.get_vector('奥迪')"
   ]
  }
 ],
 "metadata": {
  "kernelspec": {
   "display_name": "Python 3",
   "language": "python",
   "name": "python3"
  },
  "language_info": {
   "codemirror_mode": {
    "name": "ipython",
    "version": 3
   },
   "file_extension": ".py",
   "mimetype": "text/x-python",
   "name": "python",
   "nbconvert_exporter": "python",
   "pygments_lexer": "ipython3",
   "version": "3.6.3"
  }
 },
 "nbformat": 4,
 "nbformat_minor": 4
}
