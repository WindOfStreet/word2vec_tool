{
 "cells": [
  {
   "cell_type": "code",
   "execution_count": 2,
   "metadata": {},
   "outputs": [],
   "source": [
    "from gensim.test.utils import datapath\n",
    "from gensim import utils\n",
    "\n",
    "class MyCorpus(object):\n",
    "    \"\"\"An interator that yields sentences (lists of str).\"\"\"\n",
    "\n",
    "    def __iter__(self):\n",
    "        corpus_path = datapath('lee_background.cor')\n",
    "        for line in open(corpus_path):\n",
    "            # assume there's one document per line, tokens separated by whitespace\n",
    "            yield utils.simple_preprocess(line)"
   ]
  },
  {
   "cell_type": "code",
   "execution_count": 3,
   "metadata": {},
   "outputs": [],
   "source": [
    "import gensim.models\n",
    "\n",
    "sentences = MyCorpus()\n",
    "model = gensim.models.Word2Vec(sentences=sentences)"
   ]
  },
  {
   "cell_type": "code",
   "execution_count": 10,
   "metadata": {
    "collapsed": true,
    "jupyter": {
     "outputs_hidden": true
    }
   },
   "outputs": [
    {
     "ename": "KeyError",
     "evalue": "\"word '车主' not in vocabulary\"",
     "output_type": "error",
     "traceback": [
      "\u001b[1;31m---------------------------------------------------------------------------\u001b[0m",
      "\u001b[1;31mKeyError\u001b[0m                                  Traceback (most recent call last)",
      "\u001b[1;32m<ipython-input-10-5c9c32985ff4>\u001b[0m in \u001b[0;36m<module>\u001b[1;34m\u001b[0m\n\u001b[1;32m----> 1\u001b[1;33m \u001b[0mprint\u001b[0m\u001b[1;33m(\u001b[0m\u001b[0mmodel\u001b[0m\u001b[1;33m.\u001b[0m\u001b[0mwv\u001b[0m\u001b[1;33m[\u001b[0m\u001b[1;34m'车主'\u001b[0m\u001b[1;33m]\u001b[0m\u001b[1;33m)\u001b[0m\u001b[1;33m\u001b[0m\u001b[1;33m\u001b[0m\u001b[0m\n\u001b[0m",
      "\u001b[1;32mC:\\ProgramData\\Anaconda3\\envs\\Py37\\lib\\site-packages\\gensim\\models\\keyedvectors.py\u001b[0m in \u001b[0;36m__getitem__\u001b[1;34m(self, entities)\u001b[0m\n\u001b[0;32m    351\u001b[0m         \u001b[1;32mif\u001b[0m \u001b[0misinstance\u001b[0m\u001b[1;33m(\u001b[0m\u001b[0mentities\u001b[0m\u001b[1;33m,\u001b[0m \u001b[0mstring_types\u001b[0m\u001b[1;33m)\u001b[0m\u001b[1;33m:\u001b[0m\u001b[1;33m\u001b[0m\u001b[1;33m\u001b[0m\u001b[0m\n\u001b[0;32m    352\u001b[0m             \u001b[1;31m# allow calls like trained_model['office'], as a shorthand for trained_model[['office']]\u001b[0m\u001b[1;33m\u001b[0m\u001b[1;33m\u001b[0m\u001b[1;33m\u001b[0m\u001b[0m\n\u001b[1;32m--> 353\u001b[1;33m             \u001b[1;32mreturn\u001b[0m \u001b[0mself\u001b[0m\u001b[1;33m.\u001b[0m\u001b[0mget_vector\u001b[0m\u001b[1;33m(\u001b[0m\u001b[0mentities\u001b[0m\u001b[1;33m)\u001b[0m\u001b[1;33m\u001b[0m\u001b[1;33m\u001b[0m\u001b[0m\n\u001b[0m\u001b[0;32m    354\u001b[0m \u001b[1;33m\u001b[0m\u001b[0m\n\u001b[0;32m    355\u001b[0m         \u001b[1;32mreturn\u001b[0m \u001b[0mvstack\u001b[0m\u001b[1;33m(\u001b[0m\u001b[1;33m[\u001b[0m\u001b[0mself\u001b[0m\u001b[1;33m.\u001b[0m\u001b[0mget_vector\u001b[0m\u001b[1;33m(\u001b[0m\u001b[0mentity\u001b[0m\u001b[1;33m)\u001b[0m \u001b[1;32mfor\u001b[0m \u001b[0mentity\u001b[0m \u001b[1;32min\u001b[0m \u001b[0mentities\u001b[0m\u001b[1;33m]\u001b[0m\u001b[1;33m)\u001b[0m\u001b[1;33m\u001b[0m\u001b[1;33m\u001b[0m\u001b[0m\n",
      "\u001b[1;32mC:\\ProgramData\\Anaconda3\\envs\\Py37\\lib\\site-packages\\gensim\\models\\keyedvectors.py\u001b[0m in \u001b[0;36mget_vector\u001b[1;34m(self, word)\u001b[0m\n\u001b[0;32m    469\u001b[0m \u001b[1;33m\u001b[0m\u001b[0m\n\u001b[0;32m    470\u001b[0m     \u001b[1;32mdef\u001b[0m \u001b[0mget_vector\u001b[0m\u001b[1;33m(\u001b[0m\u001b[0mself\u001b[0m\u001b[1;33m,\u001b[0m \u001b[0mword\u001b[0m\u001b[1;33m)\u001b[0m\u001b[1;33m:\u001b[0m\u001b[1;33m\u001b[0m\u001b[1;33m\u001b[0m\u001b[0m\n\u001b[1;32m--> 471\u001b[1;33m         \u001b[1;32mreturn\u001b[0m \u001b[0mself\u001b[0m\u001b[1;33m.\u001b[0m\u001b[0mword_vec\u001b[0m\u001b[1;33m(\u001b[0m\u001b[0mword\u001b[0m\u001b[1;33m)\u001b[0m\u001b[1;33m\u001b[0m\u001b[1;33m\u001b[0m\u001b[0m\n\u001b[0m\u001b[0;32m    472\u001b[0m \u001b[1;33m\u001b[0m\u001b[0m\n\u001b[0;32m    473\u001b[0m     \u001b[1;32mdef\u001b[0m \u001b[0mwords_closer_than\u001b[0m\u001b[1;33m(\u001b[0m\u001b[0mself\u001b[0m\u001b[1;33m,\u001b[0m \u001b[0mw1\u001b[0m\u001b[1;33m,\u001b[0m \u001b[0mw2\u001b[0m\u001b[1;33m)\u001b[0m\u001b[1;33m:\u001b[0m\u001b[1;33m\u001b[0m\u001b[1;33m\u001b[0m\u001b[0m\n",
      "\u001b[1;32mC:\\ProgramData\\Anaconda3\\envs\\Py37\\lib\\site-packages\\gensim\\models\\keyedvectors.py\u001b[0m in \u001b[0;36mword_vec\u001b[1;34m(self, word, use_norm)\u001b[0m\n\u001b[0;32m    466\u001b[0m             \u001b[1;32mreturn\u001b[0m \u001b[0mresult\u001b[0m\u001b[1;33m\u001b[0m\u001b[1;33m\u001b[0m\u001b[0m\n\u001b[0;32m    467\u001b[0m         \u001b[1;32melse\u001b[0m\u001b[1;33m:\u001b[0m\u001b[1;33m\u001b[0m\u001b[1;33m\u001b[0m\u001b[0m\n\u001b[1;32m--> 468\u001b[1;33m             \u001b[1;32mraise\u001b[0m \u001b[0mKeyError\u001b[0m\u001b[1;33m(\u001b[0m\u001b[1;34m\"word '%s' not in vocabulary\"\u001b[0m \u001b[1;33m%\u001b[0m \u001b[0mword\u001b[0m\u001b[1;33m)\u001b[0m\u001b[1;33m\u001b[0m\u001b[1;33m\u001b[0m\u001b[0m\n\u001b[0m\u001b[0;32m    469\u001b[0m \u001b[1;33m\u001b[0m\u001b[0m\n\u001b[0;32m    470\u001b[0m     \u001b[1;32mdef\u001b[0m \u001b[0mget_vector\u001b[0m\u001b[1;33m(\u001b[0m\u001b[0mself\u001b[0m\u001b[1;33m,\u001b[0m \u001b[0mword\u001b[0m\u001b[1;33m)\u001b[0m\u001b[1;33m:\u001b[0m\u001b[1;33m\u001b[0m\u001b[1;33m\u001b[0m\u001b[0m\n",
      "\u001b[1;31mKeyError\u001b[0m: \"word '车主' not in vocabulary\""
     ]
    }
   ],
   "source": [
    "print(model.wv['车主'])"
   ]
  },
  {
   "cell_type": "code",
   "execution_count": 6,
   "metadata": {},
   "outputs": [],
   "source": [
    "import pandas as pd\n",
    "import jieba"
   ]
  },
  {
   "cell_type": "code",
   "execution_count": 23,
   "metadata": {},
   "outputs": [],
   "source": [
    "class MyCorpus():\n",
    "    def __iter__(self):\n",
    "        train_df = pd.read_csv('input/AutoMaster_TrainSet.csv')\n",
    "        test_df = pd.read_csv('input/AutoMaster_TestSet.csv')\n",
    "        all_df = pd.concat([train_df, test_df], axis=0)\n",
    "        text_sr = all_df['Question'].str.cat(all_df[['Dialogue', 'Report']], na_rep=' ', sep=' ')\n",
    "        for item in text_sr[:100]:\n",
    "            yield jieba.lcut(item)\n",
    "         "
   ]
  },
  {
   "cell_type": "code",
   "execution_count": 24,
   "metadata": {},
   "outputs": [
    {
     "name": "stderr",
     "output_type": "stream",
     "text": [
      "Building prefix dict from the default dictionary ...\n",
      "Loading model from cache C:\\Users\\ADMINI~1\\AppData\\Local\\Temp\\jieba.cache\n",
      "Loading model cost 0.951 seconds.\n",
      "Prefix dict has been built successfully.\n"
     ]
    }
   ],
   "source": [
    "sentences = MyCorpus()\n",
    "model = gensim.models.Word2Vec(sentences=sentences)"
   ]
  },
  {
   "cell_type": "code",
   "execution_count": 25,
   "metadata": {},
   "outputs": [
    {
     "name": "stdout",
     "output_type": "stream",
     "text": [
      "[-0.17627966  0.20223483  0.09736463  0.45776454  0.02788033  0.40919864\n",
      "  0.22189006  0.28506976  0.01884184  0.23433381 -0.12273528  0.30586827\n",
      "  0.42803016  0.11838364  0.24765591  0.11851417 -0.08985543 -0.03853327\n",
      "  0.74130756  0.25742665  0.01983926 -0.23378545  0.19642049 -0.01969128\n",
      "  0.5852444   0.60833645  0.21583477 -0.26439312  0.48913094 -0.18181331\n",
      "  0.0137241   0.20351021  0.03262213  0.27928555 -0.07905057  0.40098578\n",
      " -0.00829282  0.2783098  -0.06136981  0.29301655  0.12867732 -0.22431786\n",
      " -0.15136647 -0.4195925   0.321986   -0.19271794 -0.5972791  -0.13151261\n",
      "  0.01065009  0.26194504  0.38478747 -0.1427894   0.0969425   0.18582161\n",
      " -0.55822885  0.11221359  0.10130591 -0.06824923 -0.11256165  0.61577475\n",
      " -0.00721137  0.05395244  0.14385377  0.62715197 -0.0044718   0.27880684\n",
      " -0.13564354  0.38695514 -0.10802039 -0.1580106  -0.35970998  0.13909827\n",
      " -0.22618459  0.13192122 -0.05798259 -0.35992116  0.2342701  -0.16373143\n",
      " -0.04619092  0.01402825 -0.03661423  0.07237431  0.24333796 -0.49242002\n",
      "  0.18383394  0.26476887 -0.3554741   0.22167335 -0.7970879   0.14683351\n",
      " -0.31415674 -0.17177741 -0.26465946  0.18315338 -0.5979452  -0.12537543\n",
      " -0.4205768   0.03505541 -0.10336763 -0.17146558]\n"
     ]
    }
   ],
   "source": [
    "print(model.wv['车主'])"
   ]
  },
  {
   "cell_type": "code",
   "execution_count": 30,
   "metadata": {},
   "outputs": [
    {
     "name": "stdout",
     "output_type": "stream",
     "text": [
      "C:\\Users\\ADMINI~1\\AppData\\Local\\Temp\\gensim-model-c7pf0xvs\n"
     ]
    }
   ],
   "source": [
    "import tempfile\n",
    "\n",
    "with tempfile.NamedTemporaryFile(prefix='gensim-model-', delete=False) as tmp:\n",
    "    temporary_filepath = tmp.name\n",
    "    model.save(temporary_filepath)\n",
    "    print(temporary_filepath)"
   ]
  },
  {
   "cell_type": "code",
   "execution_count": 31,
   "metadata": {},
   "outputs": [],
   "source": [
    "model.save('input/my_w2v')"
   ]
  },
  {
   "cell_type": "code",
   "execution_count": 32,
   "metadata": {},
   "outputs": [],
   "source": [
    "model1 =  gensim.models.Word2Vec.load('input/my_w2v')"
   ]
  },
  {
   "cell_type": "code",
   "execution_count": 33,
   "metadata": {},
   "outputs": [
    {
     "data": {
      "text/plain": [
       "array([-1.70497239e-01,  2.01625556e-01,  1.01795204e-01,  4.54638243e-01,\n",
       "        2.58886274e-02,  4.02481794e-01,  2.25213289e-01,  2.78136313e-01,\n",
       "        1.12680979e-02,  2.38290891e-01, -1.10544570e-01,  2.96259642e-01,\n",
       "        4.23770905e-01,  1.23546638e-01,  2.46469080e-01,  1.16870917e-01,\n",
       "       -9.49938446e-02, -3.80582288e-02,  7.26251781e-01,  2.60212421e-01,\n",
       "        1.47496043e-02, -2.26968974e-01,  1.85635552e-01, -2.93738376e-02,\n",
       "        5.82136869e-01,  6.00440204e-01,  2.15956315e-01, -2.66042769e-01,\n",
       "        4.93235022e-01, -1.82285562e-01,  1.79651733e-02,  1.98299453e-01,\n",
       "        3.73858921e-02,  2.74696916e-01, -6.96163550e-02,  4.03649241e-01,\n",
       "       -3.96059779e-03,  2.82388210e-01, -5.77559285e-02,  2.92434186e-01,\n",
       "        1.31401315e-01, -2.17209354e-01, -1.52492136e-01, -4.10981059e-01,\n",
       "        3.19025129e-01, -1.85084105e-01, -5.87298274e-01, -1.24234311e-01,\n",
       "        7.10269948e-03,  2.75584579e-01,  3.86442631e-01, -1.48488313e-01,\n",
       "        9.65728387e-02,  1.86393946e-01, -5.59773624e-01,  1.14458732e-01,\n",
       "        1.02828674e-01, -6.10808581e-02, -1.24356374e-01,  6.08621180e-01,\n",
       "       -4.10180743e-04,  5.65533787e-02,  1.44463778e-01,  6.28336489e-01,\n",
       "       -1.31965056e-03,  2.77468652e-01, -1.27285436e-01,  3.81989539e-01,\n",
       "       -1.04605749e-01, -1.52786478e-01, -3.51027668e-01,  1.33632168e-01,\n",
       "       -2.40063116e-01,  1.28192216e-01, -5.78996576e-02, -3.47979397e-01,\n",
       "        2.29592577e-01, -1.62322924e-01, -4.64189835e-02,  2.33632829e-02,\n",
       "       -3.76882218e-02,  6.94992468e-02,  2.37395421e-01, -4.87917185e-01,\n",
       "        1.73241287e-01,  2.61244953e-01, -3.49967659e-01,  2.23025620e-01,\n",
       "       -7.92645037e-01,  1.49227455e-01, -3.16508621e-01, -1.62656069e-01,\n",
       "       -2.60160565e-01,  1.80976585e-01, -5.84501743e-01, -1.29666910e-01,\n",
       "       -4.25624818e-01,  3.09215616e-02, -1.01209484e-01, -1.68962777e-01],\n",
       "      dtype=float32)"
      ]
     },
     "execution_count": 33,
     "metadata": {},
     "output_type": "execute_result"
    }
   ],
   "source": [
    "model1.wv['技师']"
   ]
  }
 ],
 "metadata": {
  "kernelspec": {
   "display_name": "Python 3",
   "language": "python",
   "name": "python3"
  },
  "language_info": {
   "codemirror_mode": {
    "name": "ipython",
    "version": 3
   },
   "file_extension": ".py",
   "mimetype": "text/x-python",
   "name": "python",
   "nbconvert_exporter": "python",
   "pygments_lexer": "ipython3",
   "version": "3.7.7"
  }
 },
 "nbformat": 4,
 "nbformat_minor": 4
}
