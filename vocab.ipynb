{
 "cells": [
  {
   "cell_type": "code",
   "execution_count": 2,
   "metadata": {
    "uuid": "1bd0c057-8bf2-4d22-9aed-0a0fe6723541"
   },
   "outputs": [],
   "source": [
    "import pandas as pd"
   ]
  },
  {
   "cell_type": "code",
   "execution_count": 4,
   "metadata": {
    "uuid": "d8193f0b-472f-471a-b677-2a59a6e8eda8"
   },
   "outputs": [],
   "source": [
    "from build_vocab import build_vocab"
   ]
  },
  {
   "cell_type": "code",
   "execution_count": null,
   "metadata": {
    "uuid": "bf19b1ba-c979-4ce9-a1b0-816ee5d9e26a"
   },
   "outputs": [
    {
     "name": "stderr",
     "output_type": "stream",
     "text": [
      "/opt/conda/lib/python3.6/site-packages/ipykernel_launcher.py:4: FutureWarning: Sorting because non-concatenation axis is not aligned. A future version\n",
      "of pandas will change to not sort by default.\n",
      "\n",
      "To accept the future behavior, pass 'sort=False'.\n",
      "\n",
      "To retain the current behavior and silence the warning, pass 'sort=True'.\n",
      "\n",
      "  after removing the cwd from sys.path.\n",
      "Building prefix dict from the default dictionary ...\n",
      "Dumping model to file cache /tmp/jieba.cache\n",
      "Loading model cost 0.846 seconds.\n",
      "Prefix dict has been built successfully.\n"
     ]
    }
   ],
   "source": [
    "REMOVE_WORDS = ['|', '[', ']', '语音', '图片', ' ']\n",
    "train_df = pd.read_csv('input/AutoMaster_TrainSet.csv')\n",
    "test_df = pd.read_csv('input/AutoMaster_TestSet.csv')\n",
    "all_df = pd.concat([train_df[:], test_df[:]], axis=0)\n",
    "build_vocab(all_df[:], idxs=['Question', 'Dialogue', 'Report'], stop_list=REMOVE_WORDS, min_count=1, save=True, save_path='input/vocab.csv')"
   ]
  },
  {
   "cell_type": "code",
   "execution_count": null,
   "metadata": {
    "uuid": "6b64b459-2c23-4f06-a833-994e9c2ae9b5"
   },
   "outputs": [],
   "source": []
  }
 ],
 "metadata": {
  "kernelspec": {
   "display_name": "Python 3",
   "language": "python",
   "name": "python3"
  },
  "language_info": {
   "codemirror_mode": {
    "name": "ipython",
    "version": 3
   },
   "file_extension": ".py",
   "mimetype": "text/x-python",
   "name": "python",
   "nbconvert_exporter": "python",
   "pygments_lexer": "ipython3",
   "version": "3.6.3"
  }
 },
 "nbformat": 4,
 "nbformat_minor": 4
}
